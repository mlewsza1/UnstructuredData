#creating three lists 
name = ["Alice", "Bob", "Claire", "Daniel"]
female = ["true", "false", "true", "false"]
age = [20, 25,30,35]

#creating numpy arrays for the female and age list
female_array = np.array(female)
age_arry = np.array(age)

#creating a python dictionary for the three elements in your list
dictionary = {
   'name':['Alice', 'Bob', 'Claire', 'Daniel'],
    'female':[True, False, True, False],
    'age':[20, 25, 30, 35] 
}

#creating a pandas dataframe from phython dictionary created above
df = pd.DataFrame(dictionary, index=name)
